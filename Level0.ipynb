{
 "cells": [
  {
   "cell_type": "markdown",
   "id": "d7f086df",
   "metadata": {},
   "source": [
    "## 250626 프로그래머스"
   ]
  },
  {
   "cell_type": "markdown",
   "id": "3bcfeefe",
   "metadata": {},
   "source": [
    "### 양꼬치\n",
    "머쓱이네 양꼬치 가게는 10인분을 먹으면 음료수 하나를 서비스로 줍니다. 양꼬치는 1인분에 12,000원, 음료수는 2,000원입니다. 정수 n과 k가 매개변수로 주어졌을 때, 양꼬치 n인분과 음료수 k개를 먹었다면 총얼마를 지불해야 하는지 return 하도록 solution 함수를 완성해보세요."
   ]
  },
  {
   "cell_type": "code",
   "execution_count": null,
   "id": "5d812140",
   "metadata": {},
   "outputs": [],
   "source": [
    "def solution(n, k):\n",
    "    service=n//10\n",
    "    answer = n*12000+ 2000*(k-service)\n",
    "    return answer"
   ]
  },
  {
   "cell_type": "code",
   "execution_count": 1,
   "id": "55e2fbdb",
   "metadata": {},
   "outputs": [],
   "source": [
    "def solution(n, k):\n",
    "    price_per_skewer = 12000\n",
    "    price_per_drink = 2000\n",
    "    service_drinks = n // 10\n",
    "    # 서비스 음료수를 뺀 뒤 음료수 개수가 음수로 내려가지 않게 처리\n",
    "    drinks_to_pay = max(k - service_drinks, 0)\n",
    "    total = n * price_per_skewer + drinks_to_pay * price_per_drink\n",
    "    return total\n"
   ]
  },
  {
   "cell_type": "markdown",
   "id": "c2a888a5",
   "metadata": {},
   "source": [
    "### 짝수의 합\n",
    "정수 n이 주어질 때, n이하의 짝수를 모두 더한 값을 return 하도록 solution 함수를 작성해주세요."
   ]
  },
  {
   "cell_type": "code",
   "execution_count": 1,
   "id": "166c4d81",
   "metadata": {},
   "outputs": [],
   "source": [
    "def solution(n):\n",
    "    total=[]\n",
    "    for a in range(n+1) :\n",
    "        if a%2==0 :\n",
    "            even=a\n",
    "            total.append(even)\n",
    "    answer = sum(total)\n",
    "    return answer"
   ]
  },
  {
   "cell_type": "code",
   "execution_count": 2,
   "id": "796f1cad",
   "metadata": {},
   "outputs": [],
   "source": [
    "def solution(n):\n",
    "    return sum([a for a in range(n+1) if a % 2 == 0])"
   ]
  },
  {
   "cell_type": "code",
   "execution_count": 3,
   "id": "8d93ac7a",
   "metadata": {},
   "outputs": [],
   "source": [
    "def solution(n):\n",
    "    return sum(range(2, n+1, 2))"
   ]
  },
  {
   "cell_type": "markdown",
   "id": "1d3410be",
   "metadata": {},
   "source": [
    "### 배열의 평균값\n",
    "정수 배열 numbers가 매개변수로 주어집니다. numbers의 원소의 평균값을 return하도록 solution 함수를 완성해주세요."
   ]
  },
  {
   "cell_type": "code",
   "execution_count": 4,
   "id": "0144ed73",
   "metadata": {},
   "outputs": [],
   "source": [
    "def solution(numbers):\n",
    "    n=len(numbers)\n",
    "    answer = sum(a for a in numbers)/n\n",
    "    return answer"
   ]
  },
  {
   "cell_type": "code",
   "execution_count": 5,
   "id": "a130b230",
   "metadata": {},
   "outputs": [],
   "source": [
    "def solution(numbers):\n",
    "    return sum(numbers) / len(numbers) if numbers else 0\n"
   ]
  },
  {
   "cell_type": "code",
   "execution_count": 6,
   "id": "6338fc7f",
   "metadata": {},
   "outputs": [],
   "source": [
    "def solution(numbers):\n",
    "    return sum(numbers) / len(numbers)\n"
   ]
  },
  {
   "cell_type": "markdown",
   "id": "7481f8c0",
   "metadata": {},
   "source": [
    "### 배열뒤집기\n",
    "정수가 들어 있는 배열 num_list가 매개변수로 주어집니다. num_list의 원소의 순서를 거꾸로 뒤집은 배열을 return하도록 solution 함수를 완성해주세요."
   ]
  },
  {
   "cell_type": "code",
   "execution_count": null,
   "id": "168fb4bb",
   "metadata": {},
   "outputs": [],
   "source": [
    "def solution(num_list):\n",
    "    n = len(num_list)\n",
    "    answer = [num_list[-a] for a in range(1,n+1)] \n",
    "    return answer"
   ]
  },
  {
   "cell_type": "code",
   "execution_count": null,
   "id": "60791512",
   "metadata": {},
   "outputs": [],
   "source": [
    "def solution(num_list):\n",
    "    n = len(num_list)\n",
    "    answer = [num_list[i] for i in range(n-1, -1, -1)]\n",
    "    return answer"
   ]
  },
  {
   "cell_type": "code",
   "execution_count": 7,
   "id": "9ded1c3e",
   "metadata": {},
   "outputs": [],
   "source": [
    "def solution(num_list):\n",
    "    return num_list[::-1]\n"
   ]
  },
  {
   "cell_type": "markdown",
   "id": "ea29b739",
   "metadata": {},
   "source": [
    "### 제곱수 판별하기\n",
    "어떤 자연수를 제곱했을 때 나오는 정수를 제곱수라고 합니다. 정수 n이 매개변수로 주어질 때, n이 제곱수라면 1을 아니라면 2를 return하도록 solution 함수를 완성해주세요.\n"
   ]
  },
  {
   "cell_type": "code",
   "execution_count": null,
   "id": "d24f8fd5",
   "metadata": {},
   "outputs": [],
   "source": [
    "def solution(n):\n",
    "    sqrtn= int(n**0.5)\n",
    "    answer = 1 if n/sqrtn/sqrtn==1 else 2\n",
    "    return answer"
   ]
  },
  {
   "cell_type": "code",
   "execution_count": 10,
   "id": "f49eb4bb",
   "metadata": {},
   "outputs": [],
   "source": [
    "def solution(n):\n",
    "    return 1 if int(n ** 0.5) ** 2 == n else 2"
   ]
  },
  {
   "cell_type": "code",
   "execution_count": 11,
   "id": "f3f4b15a",
   "metadata": {},
   "outputs": [],
   "source": [
    "def solution(n):\n",
    "    return 1 if (n ** 0.5).is_integer() else 2\n"
   ]
  },
  {
   "cell_type": "code",
   "execution_count": 12,
   "id": "43ee92f8",
   "metadata": {},
   "outputs": [],
   "source": [
    "import math\n",
    "def solution(n):\n",
    "    return 1 if math.isqrt(n) ** 2 == n else 2\n"
   ]
  },
  {
   "cell_type": "markdown",
   "id": "45feac5f",
   "metadata": {},
   "source": [
    "### 짝수 홀수 개수\n",
    "정수가 담긴 리스트 num_list가 주어질 때, num_list의 원소 중 짝수와 홀수의 개수를 담은 배열을 return 하도록 solution 함수를 완성해보세요.\n",
    "\n"
   ]
  },
  {
   "cell_type": "code",
   "execution_count": 13,
   "id": "62802cce",
   "metadata": {},
   "outputs": [],
   "source": [
    "def solution(num_list):\n",
    "    odd = 0\n",
    "    even =0\n",
    "    for a in num_list :\n",
    "        if a%2==0 :\n",
    "            even+=1\n",
    "        else :\n",
    "            odd+=1\n",
    "    answer = [even,odd]\n",
    "    return answer"
   ]
  },
  {
   "cell_type": "code",
   "execution_count": 14,
   "id": "463abe88",
   "metadata": {},
   "outputs": [],
   "source": [
    "def solution(num_list):\n",
    "    even = sum(1 for x in num_list if x % 2 == 0)\n",
    "    odd = len(num_list) - even\n",
    "    return [even, odd]"
   ]
  },
  {
   "cell_type": "code",
   "execution_count": 15,
   "id": "c9a5dcc6",
   "metadata": {},
   "outputs": [],
   "source": [
    "def solution(num_list):\n",
    "    even = sum(1 for x in num_list if x % 2 == 0)\n",
    "    odd = sum(1 for x in num_list if x % 2 != 0)\n",
    "    return [even, odd]\n"
   ]
  },
  {
   "cell_type": "code",
   "execution_count": 16,
   "id": "72a2cbea",
   "metadata": {},
   "outputs": [],
   "source": [
    "def solution(num_list):\n",
    "    even = sum(map(lambda x: x % 2 == 0, num_list))\n",
    "    odd = sum(map(lambda x: x % 2 != 0, num_list))\n",
    "    return [even, odd]\n"
   ]
  },
  {
   "cell_type": "code",
   "execution_count": 17,
   "id": "c9bcab0d",
   "metadata": {},
   "outputs": [],
   "source": [
    "from collections import Counter\n",
    "\n",
    "def solution(num_list):\n",
    "    c = Counter(x % 2 == 0 for x in num_list)\n",
    "    return [c[True], c[False]]\n"
   ]
  },
  {
   "cell_type": "markdown",
   "id": "f1997087",
   "metadata": {},
   "source": [
    "### 특정 문자 제거하기\n",
    "문자열 my_string과 문자 letter이 매개변수로 주어집니다. my_string에서 letter를 제거한 문자열을 return하도록 solution 함수를 완성해주세요."
   ]
  },
  {
   "cell_type": "code",
   "execution_count": null,
   "id": "507efb93",
   "metadata": {},
   "outputs": [],
   "source": [
    "\n",
    "def solution(my_string, letter):\n",
    "    answer = my_string.replace(letter,\"\")\n",
    "    return answer"
   ]
  },
  {
   "cell_type": "markdown",
   "id": "8f93388e",
   "metadata": {},
   "source": [
    "### 뒤집힌 문자열\n",
    "문자열 my_string이 매개변수로 주어집니다. my_string을 거꾸로 뒤집은 문자열을 return하도록 solution 함수를 완성해주세요.\n",
    "\n"
   ]
  },
  {
   "cell_type": "code",
   "execution_count": 20,
   "id": "f665ab1c",
   "metadata": {},
   "outputs": [],
   "source": [
    "def solution(my_string):\n",
    "    word = \"\"\n",
    "    for i in range(len(my_string)-1, -1, -1):\n",
    "        word += my_string[i]\n",
    "    return word"
   ]
  },
  {
   "cell_type": "code",
   "execution_count": 18,
   "id": "aabe29a9",
   "metadata": {},
   "outputs": [],
   "source": [
    "def solution(my_string):\n",
    "    return my_string[::-1]"
   ]
  },
  {
   "cell_type": "markdown",
   "id": "c94165b3",
   "metadata": {},
   "source": [
    "### 편지\n",
    "머쓱이는 할머니께 생신 축하 편지를 쓰려고 합니다. 할머니가 보시기 편하도록 글자 한 자 한 자를 가로 2cm 크기로 적으려고 하며, 편지를 가로로만 적을 때, 축하 문구 message를 적기 위해 필요한 편지지의 최소 가로길이를 return 하도록 solution 함수를 완성해주세요.\n",
    "\n",
    "\n"
   ]
  },
  {
   "cell_type": "code",
   "execution_count": 21,
   "id": "0d21ed31",
   "metadata": {},
   "outputs": [],
   "source": [
    "def solution(message):\n",
    "    length=len(message)*2\n",
    "    answer = length\n",
    "    return answer"
   ]
  },
  {
   "cell_type": "code",
   "execution_count": null,
   "id": "5ae9f473",
   "metadata": {},
   "outputs": [],
   "source": [
    "def solution(message):\n",
    "    return len(message) * 2"
   ]
  },
  {
   "cell_type": "markdown",
   "id": "83496136",
   "metadata": {},
   "source": [
    "## 250627 프로그래머스"
   ]
  },
  {
   "cell_type": "markdown",
   "id": "e2570e24",
   "metadata": {},
   "source": [
    "### 피자나눠먹기 (1)\n",
    "머쓱이네 피자가게는 피자를 일곱 조각으로 잘라 줍니다. 피자를 나눠먹을 사람의 수 n이 주어질 때, 모든 사람이 피자를 한 조각 이상 먹기 위해 필요한 피자의 수를 return 하는 solution 함수를 완성해보세요."
   ]
  },
  {
   "cell_type": "code",
   "execution_count": 4,
   "id": "bf28625e",
   "metadata": {},
   "outputs": [],
   "source": [
    "def solution(n):\n",
    "    if n%7 ==0:\n",
    "        answer =n//7\n",
    "    else:\n",
    "        answer = n//7+1 \n",
    "    # 피자 한판의 조각 수 : 7, n을 7로 나눈 몫 보다 피자가 넉넉해야 하므로 +1\n",
    "    return answer"
   ]
  },
  {
   "cell_type": "code",
   "execution_count": 6,
   "id": "190acc07",
   "metadata": {},
   "outputs": [],
   "source": [
    "def solution(n):\n",
    "    return (n + 6) // 7"
   ]
  },
  {
   "cell_type": "code",
   "execution_count": null,
   "id": "52d99d51",
   "metadata": {},
   "outputs": [],
   "source": [
    "import math\n",
    "def solution(n):\n",
    "    return math.ceil(n / 7)\n",
    "# math.ceil() 함수로 올림을 직접 처리"
   ]
  },
  {
   "cell_type": "markdown",
   "id": "2959b9de",
   "metadata": {},
   "source": [
    "## 세균증식\n",
    "어떤 세균은 1시간에 두배만큼 증식한다고 합니다. 처음 세균의 마리수 n과 경과한 시간 t가 매개변수로 주어질 때 t시간 후 세균의 수를 return하도록 solution 함수를 완성해주세요.\n"
   ]
  },
  {
   "cell_type": "code",
   "execution_count": 1,
   "id": "2bd459a7",
   "metadata": {},
   "outputs": [],
   "source": [
    "def solution(n, t):\n",
    "    answer = n*2**t\n",
    "    return answer"
   ]
  },
  {
   "cell_type": "code",
   "execution_count": 3,
   "id": "34803f71",
   "metadata": {},
   "outputs": [],
   "source": [
    "def solution_loop(n, t):\n",
    "    for _ in range(t):\n",
    "        n *= 2\n",
    "    return n"
   ]
  },
  {
   "cell_type": "code",
   "execution_count": 2,
   "id": "cf5d5cab",
   "metadata": {},
   "outputs": [],
   "source": [
    "def solution_recursive(n, t):\n",
    "    if t == 0:\n",
    "        return n\n",
    "    return solution_recursive(n * 2, t - 1)"
   ]
  },
  {
   "cell_type": "markdown",
   "id": "67e00975",
   "metadata": {},
   "source": [
    "### 최댓값 만들기(1)\n",
    "정수 배열 numbers가 매개변수로 주어집니다. numbers의 원소 중 두 개를 곱해 만들 수 있는 최댓값을 return하도록 solution 함수를 완성해주세요."
   ]
  },
  {
   "cell_type": "code",
   "execution_count": 8,
   "id": "36e1f23c",
   "metadata": {},
   "outputs": [],
   "source": [
    "def solution(numbers):\n",
    "    s=sorted(numbers)\n",
    "    return s[-1]*s[-2]"
   ]
  },
  {
   "cell_type": "code",
   "execution_count": null,
   "id": "30b970d7",
   "metadata": {},
   "outputs": [],
   "source": [
    "def solution(numbers):\n",
    "    s = sorted(numbers)\n",
    "    return max(s[0] * s[1], s[-1] * s[-2])\n",
    "# 음수가 있는 경우"
   ]
  },
  {
   "cell_type": "code",
   "execution_count": null,
   "id": "9d5bdd3e",
   "metadata": {},
   "outputs": [],
   "source": [
    "def solution(numbers):\n",
    "    max1 = max2 = float('-inf')  # 가장 큰 값과 두 번째로 큰 값을 -무한대로 초기화\n",
    "    for n in numbers:\n",
    "        if n > max1:             # n이 현재까지의 최댓값보다 크면\n",
    "            max2, max1 = max1, n # max1을 max2로 내리고, n을 max1로 올림\n",
    "        elif n > max2:           # n이 max1보다는 작지만 max2보다는 크면\n",
    "            max2 = n             # max2를 n으로 교체\n",
    "    return max1 * max2           # 최댓값 두 개의 곱을 반환"
   ]
  },
  {
   "cell_type": "markdown",
   "id": "08300fe3",
   "metadata": {},
   "source": [
    "### 모음제거\n",
    "영어에선 a, e, i, o, u 다섯 가지 알파벳을 모음으로 분류합니다. 문자열 my_string이 매개변수로 주어질 때 모음을 제거한 문자열을 return하도록 solution 함수를 완성해주세요."
   ]
  },
  {
   "cell_type": "code",
   "execution_count": null,
   "id": "0ff78af1",
   "metadata": {},
   "outputs": [],
   "source": [
    "def solution(my_string):\n",
    "    list =[\"a\",\"e\",\"i\",'o','u']\n",
    "    for i in list :\n",
    "        if i in my_string:\n",
    "            my_string = my_string.replace(i,\"\")\n",
    "    \n",
    "    return my_string"
   ]
  },
  {
   "cell_type": "code",
   "execution_count": 11,
   "id": "16379845",
   "metadata": {},
   "outputs": [],
   "source": [
    "def solution(my_string):\n",
    "    vowels = \"aeiou\"\n",
    "    return ''.join([ch for ch in my_string if ch not in vowels])\n"
   ]
  },
  {
   "cell_type": "code",
   "execution_count": 12,
   "id": "d255d652",
   "metadata": {},
   "outputs": [],
   "source": [
    "def solution(my_string):\n",
    "    return my_string.translate(str.maketrans('', '', 'aeiou'))\n"
   ]
  },
  {
   "cell_type": "markdown",
   "id": "81447ab2",
   "metadata": {},
   "source": [
    "### 자릿수 더하기\n",
    "정수 n이 매개변수로 주어질 때 n의 각 자리 숫자의 합을 return하도록 solution 함수를 완성해주세요\n"
   ]
  },
  {
   "cell_type": "code",
   "execution_count": 13,
   "id": "0c3a4731",
   "metadata": {},
   "outputs": [],
   "source": [
    "def solution(n):\n",
    "    nsum = 0\n",
    "    while n >9 :\n",
    "        rest=n%10\n",
    "        nsum += rest\n",
    "        n //= 10\n",
    "    nsum += n\n",
    "    return nsum"
   ]
  },
  {
   "cell_type": "code",
   "execution_count": 16,
   "id": "c0e091c0",
   "metadata": {},
   "outputs": [],
   "source": [
    "def solution(n):\n",
    "    return sum(int(digit) for digit in str(n))\n",
    "# n을 문자열로 변환한 뒤, 각 글자를 정수로 바꿔 모두 더합니다.\n",
    "\n"
   ]
  },
  {
   "cell_type": "code",
   "execution_count": 17,
   "id": "bf95bc7f",
   "metadata": {},
   "outputs": [],
   "source": [
    "def solution(n):\n",
    "    return sum(map(int, str(n)))\n"
   ]
  },
  {
   "cell_type": "code",
   "execution_count": null,
   "id": "b09c8f48",
   "metadata": {},
   "outputs": [],
   "source": [
    "def solution(n):\n",
    "    if n < 10:\n",
    "        return n\n",
    "    return (n % 10) + solution(n // 10)\n",
    "# 재귀함수 풀이\n"
   ]
  },
  {
   "cell_type": "code",
   "execution_count": null,
   "id": "9c16e522",
   "metadata": {},
   "outputs": [],
   "source": []
  }
 ],
 "metadata": {
  "kernelspec": {
   "display_name": "pandas",
   "language": "python",
   "name": "python3"
  },
  "language_info": {
   "codemirror_mode": {
    "name": "ipython",
    "version": 3
   },
   "file_extension": ".py",
   "mimetype": "text/x-python",
   "name": "python",
   "nbconvert_exporter": "python",
   "pygments_lexer": "ipython3",
   "version": "3.12.11"
  }
 },
 "nbformat": 4,
 "nbformat_minor": 5
}
