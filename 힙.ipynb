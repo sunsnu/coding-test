{
 "cells": [
  {
   "cell_type": "markdown",
   "id": "7828134f",
   "metadata": {},
   "source": [
    "## 힙 트리란?  \n",
    "자료구조 내의 데이터 중 최대값 혹은 최솟값을 빠르게 찾을 수 있는 형태의 트리를 말한다.\n",
    "![image.png](attachment:image.png)\n",
    "\n",
    "### 힙트리의 특성\n",
    "- 완전 이진 트리 ( 트리의 위부터 아래, 왼쪽부터 오른쪽의 순서로 빠짐없이 가득 차있는 이진 트리 )"
   ]
  },
  {
   "cell_type": "markdown",
   "id": "847e210f",
   "metadata": {},
   "source": []
  }
 ],
 "metadata": {
  "kernelspec": {
   "display_name": "d2",
   "language": "python",
   "name": "python3"
  },
  "language_info": {
   "name": "python",
   "version": "3.10.18"
  }
 },
 "nbformat": 4,
 "nbformat_minor": 5
}
