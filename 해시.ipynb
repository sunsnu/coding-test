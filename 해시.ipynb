{
 "cells": [
  {
   "cell_type": "markdown",
   "id": "3fca3fa8",
   "metadata": {},
   "source": [
    "# 해시\n",
    "## Key-value 쌍으로 데이터를 빠르게 찾아보기"
   ]
  },
  {
   "cell_type": "markdown",
   "id": "af09bf18",
   "metadata": {},
   "source": [
    "- 알기 쉬운 비유: 책의 목차, 사전\n",
    "    - 우리가 사전에서 단어를 찾을 때, A부터 Z까지 순서대로 하나씩 찾지 않고 특정 위치에 있음을 알고 빠르게 찾을 수 있게 만들어놨다.\n",
    "    - 해시 알고리즘은 데이터를 특정 위치에 바로 저장하거나 찾을 수 있게 도와주는 '주소 생성기'라고 생각하면 된다.\n",
    "\n",
    "- 해시의 정의: 해시 알고리즘은 어떤 입력값(문자열, 숫자 등)을 고정된 크기의 고유한 숫자(해시값)로 변환하는 함수입니다.\n",
    "    - 이 해시값을 통해 빠르게 저장하고 검색 가능하다.\n",
    "\n",
    "- 일반적으로 데이터를 찾기 위해 하나하나 순회하면 시간이 오래 걸리는데, 해시를 사용하면 바로 해당 위치로 점프해서 꺼내올 수 있어 검색 속도가 매우 빠르다\n",
    "\n",
    "    - 일반 리스트 탐색: O(n)\n",
    "    - 해시를 이용한 검색: O(1) (평균적으로)\n",
    "\n"
   ]
  },
  {
   "cell_type": "markdown",
   "id": "935f644f",
   "metadata": {},
   "source": [
    "## dict"
   ]
  },
  {
   "cell_type": "markdown",
   "id": "03bd1ab7",
   "metadata": {},
   "source": [
    "- 파이썬의 딕셔너리는 해시 테이블 기반으로 `answer={}` 와 같이 딕셔너리를 선언한 후, `answer[i]` 형태로 값을 저장하고 불러오는 구조 자체가 내부적으로 해시를 사용하고 있는 구조\n",
    "- 내부적으로 hash(key) 값을 이용해 빠르게 key-value 저장 및 조회\n",
    "- 동작 원리:\n",
    "    - 키를 해싱 → 해시값(주소) 계산\n",
    "    - 해당 위치에 값을 저장 또는 검색\n",
    "    - 즉, 딕셔너리의 핵심 원리는 해시입니다."
   ]
  },
  {
   "cell_type": "markdown",
   "id": "16930e54",
   "metadata": {},
   "source": [
    "- 딕셔너리 정의"
   ]
  },
  {
   "cell_type": "code",
   "execution_count": 76,
   "metadata": {},
   "outputs": [
    {
     "name": "stdout",
     "output_type": "stream",
     "text": [
      "보통 중괄호를 사용하여 정의함 \n",
      "> {}\n",
      "<class 'dict'>\n"
     ]
    }
   ],
   "source": [
    "mydict={}\n",
    "print(\"보통 중괄호를 사용하여 정의함 \\n>\", mydict)\n",
    "print(type(mydict))"
   ]
  },
  {
   "cell_type": "markdown",
   "id": "053ff19c",
   "metadata": {},
   "source": [
    "- `dict[key]=value` 와 같은 형태로 딕셔너리 추가"
   ]
  },
  {
   "cell_type": "code",
   "execution_count": 77,
   "id": "9843c110",
   "metadata": {},
   "outputs": [
    {
     "name": "stdout",
     "output_type": "stream",
     "text": [
      "{'S': 3, 'B': 5, 'J': 6, 'O': 9}\n"
     ]
    }
   ],
   "source": [
    "mydict['S']=3\n",
    "mydict['B']=5\n",
    "mydict['J']=6\n",
    "mydict['O']=9\n",
    "print(mydict)"
   ]
  },
  {
   "cell_type": "markdown",
   "id": "e65e5330",
   "metadata": {},
   "source": [
    "- value가 숫자인 경우, 해시 기반으로 값을 찾아 해당 값에 +1 해줄 수 있다."
   ]
  },
  {
   "cell_type": "code",
   "execution_count": 78,
   "id": "5438d566",
   "metadata": {},
   "outputs": [
    {
     "data": {
      "text/plain": [
       "{'S': 4, 'B': 5, 'J': 6, 'O': 9}"
      ]
     },
     "execution_count": 78,
     "metadata": {},
     "output_type": "execute_result"
    }
   ],
   "source": [
    "mydict['S']+=1\n",
    "mydict"
   ]
  },
  {
   "cell_type": "markdown",
   "id": "b40fcac7",
   "metadata": {},
   "source": [
    "- 동일한 key가 여러 번 나오면 마지막 값이 덮어씀"
   ]
  },
  {
   "cell_type": "code",
   "execution_count": 79,
   "id": "8d1b36eb",
   "metadata": {},
   "outputs": [
    {
     "data": {
      "text/plain": [
       "{'S': 4, 'B': 5, 'J': 6, 'O': 0}"
      ]
     },
     "execution_count": 79,
     "metadata": {},
     "output_type": "execute_result"
    }
   ],
   "source": [
    "mydict['O']=0\n",
    "mydict"
   ]
  },
  {
   "cell_type": "markdown",
   "id": "35699be4",
   "metadata": {},
   "source": [
    "- Key로 Value 얻기"
   ]
  },
  {
   "cell_type": "code",
   "execution_count": 89,
   "id": "8c12ce14",
   "metadata": {},
   "outputs": [
    {
     "data": {
      "text/plain": [
       "4"
      ]
     },
     "execution_count": 89,
     "metadata": {},
     "output_type": "execute_result"
    }
   ],
   "source": [
    "mydict.get('S')"
   ]
  },
  {
   "cell_type": "code",
   "execution_count": 90,
   "id": "1409a065",
   "metadata": {},
   "outputs": [
    {
     "data": {
      "text/plain": [
       "4"
      ]
     },
     "execution_count": 90,
     "metadata": {},
     "output_type": "execute_result"
    }
   ],
   "source": [
    "mydict['S']"
   ]
  },
  {
   "cell_type": "markdown",
   "id": "a6f45f59",
   "metadata": {},
   "source": [
    "- 해당 Key가 딕셔너리 안에 있는지 조사하기"
   ]
  },
  {
   "cell_type": "code",
   "execution_count": 91,
   "id": "386ce468",
   "metadata": {},
   "outputs": [
    {
     "data": {
      "text/plain": [
       "True"
      ]
     },
     "execution_count": 91,
     "metadata": {},
     "output_type": "execute_result"
    }
   ],
   "source": [
    "'B' in mydict"
   ]
  },
  {
   "cell_type": "code",
   "execution_count": 92,
   "id": "568e5eb7",
   "metadata": {},
   "outputs": [
    {
     "data": {
      "text/plain": [
       "False"
      ]
     },
     "execution_count": 92,
     "metadata": {},
     "output_type": "execute_result"
    }
   ],
   "source": [
    "'A' in mydict"
   ]
  },
  {
   "cell_type": "markdown",
   "id": "149a3d4f",
   "metadata": {},
   "source": [
    "- 딕셔너리 요소 삭제하기"
   ]
  },
  {
   "cell_type": "code",
   "execution_count": 120,
   "id": "96366bfd",
   "metadata": {},
   "outputs": [
    {
     "data": {
      "text/plain": [
       "{'B': 5, 'J': 6, 'O': 0}"
      ]
     },
     "execution_count": 120,
     "metadata": {},
     "output_type": "execute_result"
    }
   ],
   "source": [
    "del mydict['S']\n",
    "mydict"
   ]
  },
  {
   "cell_type": "markdown",
   "id": "143c77dc",
   "metadata": {},
   "source": [
    "- Key 리스트 만들기"
   ]
  },
  {
   "cell_type": "code",
   "execution_count": 121,
   "id": "3442722b",
   "metadata": {},
   "outputs": [
    {
     "name": "stdout",
     "output_type": "stream",
     "text": [
      "mydict.keys() \n",
      "> dict_keys(['B', 'J', 'O'])\n",
      "\n",
      "\n",
      "list(mydict.keys()) \n",
      "> ['B', 'J', 'O']\n"
     ]
    }
   ],
   "source": [
    "print(\"mydict.keys() \\n>\", end=\" \")\n",
    "print(mydict.keys())\n",
    "\n",
    "print('\\n')\n",
    "\n",
    "print(\"list(mydict.keys()) \\n>\", end=\" \")\n",
    "print(list(mydict.keys()))"
   ]
  },
  {
   "cell_type": "markdown",
   "id": "b7d455e4",
   "metadata": {},
   "source": [
    "- Value 리스트 만들기"
   ]
  },
  {
   "cell_type": "code",
   "execution_count": 122,
   "id": "562e70fc",
   "metadata": {},
   "outputs": [
    {
     "name": "stdout",
     "output_type": "stream",
     "text": [
      "mydict.values() \n",
      "> dict_values([5, 6, 0])\n",
      "\n",
      "\n",
      "list(mydict.values()) \n",
      "> [5, 6, 0]\n"
     ]
    }
   ],
   "source": [
    "print(\"mydict.values() \\n>\", end=\" \")\n",
    "print(mydict.values())\n",
    "\n",
    "print('\\n')\n",
    "\n",
    "print(\"list(mydict.values()) \\n>\", end=\" \")\n",
    "print(list(mydict.values()))"
   ]
  },
  {
   "cell_type": "markdown",
   "id": "c7db0541",
   "metadata": {},
   "source": [
    "- Key, Value 쌍 얻기"
   ]
  },
  {
   "cell_type": "code",
   "execution_count": 123,
   "id": "609d68e1",
   "metadata": {},
   "outputs": [
    {
     "name": "stdout",
     "output_type": "stream",
     "text": [
      "mydict \n",
      "> {'B': 5, 'J': 6, 'O': 0}\n",
      "\n",
      "\n",
      "mydict.items() \n",
      "> dict_items([('B', 5), ('J', 6), ('O', 0)])\n"
     ]
    }
   ],
   "source": [
    "print(\"mydict \\n>\", end=\" \")\n",
    "print(mydict)\n",
    "\n",
    "print('\\n')\n",
    "\n",
    "print(\"mydict.items() \\n>\", end=\" \")\n",
    "print(mydict.items())"
   ]
  },
  {
   "cell_type": "code",
   "execution_count": 124,
   "id": "276e9e30",
   "metadata": {},
   "outputs": [
    {
     "name": "stdout",
     "output_type": "stream",
     "text": [
      "B 5\n",
      "J 6\n",
      "O 0\n"
     ]
    }
   ],
   "source": [
    "for key_, value_ in mydict.items():\n",
    "    print(key_, value_)"
   ]
  },
  {
   "cell_type": "markdown",
   "id": "eb63e4ca",
   "metadata": {},
   "source": [
    "- 딕셔너리 정렬하기"
   ]
  },
  {
   "cell_type": "code",
   "execution_count": null,
   "id": "b47da1dd",
   "metadata": {},
   "outputs": [],
   "source": [
    "mydict['A']=4"
   ]
  },
  {
   "cell_type": "code",
   "execution_count": null,
   "id": "da494fd4",
   "metadata": {},
   "outputs": [
    {
     "name": "stdout",
     "output_type": "stream",
     "text": [
      "원본 \n",
      "> {'B': 5, 'J': 6, 'O': 0, 'A': 4}\n",
      "\n",
      "key 기준 오름차순 정렬\n",
      "[('A', 4), ('B', 5), ('J', 6), ('O', 0)]\n",
      "\n",
      "key 기준 내림차순 정렬\n",
      "[('O', 0), ('J', 6), ('B', 5), ('A', 4)]\n",
      "\n",
      "key 기준 내림차순 정렬\n",
      "[('A', 4), ('B', 5), ('J', 6), ('O', 0)]\n",
      "\n",
      "value 기준 오름차순 정렬\n",
      "[('O', 0), ('A', 4), ('B', 5), ('J', 6)]\n",
      "\n",
      "value 기준 내림차순 정렬\n",
      "[('J', 6), ('B', 5), ('A', 4), ('O', 0)]\n",
      "\n"
     ]
    }
   ],
   "source": [
    "print(\"원본 \\n>\", mydict, end=\"\\n\\n\")\n",
    "\n",
    "print(\"key 기준 오름차순 정렬\")\n",
    "d1=sorted(mydict.items())\n",
    "print(d1, end=\"\\n\\n\")\n",
    "\n",
    "print(\"key 기준 내림차순 정렬\")\n",
    "d2=sorted(mydict.items(), reverse=True)\n",
    "print(d2, end=\"\\n\\n\")\n",
    "\n",
    "print(\"value 기준 오름차순 정렬\")\n",
    "d4=sorted(mydict.items(), key=lambda x:x[1])\n",
    "print(d4, end=\"\\n\\n\")\n",
    "\n",
    "print(\"value 기준 내림차순 정렬\")\n",
    "d4=sorted(mydict.items(), key=lambda x:x[1], reverse=True)\n",
    "print(d4, end=\"\\n\\n\")"
   ]
  },
  {
   "cell_type": "markdown",
   "id": "18d5a513",
   "metadata": {},
   "source": [
    "### dict, set 모두 내부적으로 hash() 사용"
   ]
  },
  {
   "cell_type": "markdown",
   "id": "13dc2934",
   "metadata": {},
   "source": [
    "- set은 고유값을 저장할 때 주로 사용"
   ]
  },
  {
   "cell_type": "code",
   "execution_count": 70,
   "id": "edabf991",
   "metadata": {},
   "outputs": [
    {
     "name": "stdout",
     "output_type": "stream",
     "text": [
      "9075822220438183291\n",
      "529344067295497451\n"
     ]
    },
    {
     "ename": "TypeError",
     "evalue": "unhashable type: 'list'",
     "output_type": "error",
     "traceback": [
      "\u001b[31m---------------------------------------------------------------------------\u001b[39m",
      "\u001b[31mTypeError\u001b[39m                                 Traceback (most recent call last)",
      "\u001b[36mCell\u001b[39m\u001b[36m \u001b[39m\u001b[32mIn[70]\u001b[39m\u001b[32m, line 3\u001b[39m\n\u001b[32m      1\u001b[39m \u001b[38;5;28mprint\u001b[39m(\u001b[38;5;28mhash\u001b[39m(\u001b[33m\"\u001b[39m\u001b[33mapple\u001b[39m\u001b[33m\"\u001b[39m))     \u001b[38;5;66;03m# 문자열의 해시값 출력\u001b[39;00m\n\u001b[32m      2\u001b[39m \u001b[38;5;28mprint\u001b[39m(\u001b[38;5;28mhash\u001b[39m((\u001b[32m1\u001b[39m, \u001b[32m2\u001b[39m, \u001b[32m3\u001b[39m)))   \u001b[38;5;66;03m# 튜플도 해시 가능\u001b[39;00m\n\u001b[32m----> \u001b[39m\u001b[32m3\u001b[39m \u001b[38;5;28mprint\u001b[39m(\u001b[38;5;28;43mhash\u001b[39;49m\u001b[43m(\u001b[49m\u001b[43m[\u001b[49m\u001b[32;43m1\u001b[39;49m\u001b[43m,\u001b[49m\u001b[43m \u001b[49m\u001b[32;43m2\u001b[39;49m\u001b[43m,\u001b[49m\u001b[43m \u001b[49m\u001b[32;43m3\u001b[39;49m\u001b[43m]\u001b[49m\u001b[43m)\u001b[49m)   \u001b[38;5;66;03m# 리스트는 에러! => 해시 불가 (mutable)\u001b[39;00m\n",
      "\u001b[31mTypeError\u001b[39m: unhashable type: 'list'"
     ]
    }
   ],
   "source": [
    "print(hash(\"apple\"))     # 문자열의 해시값 출력\n",
    "print(hash((1, 2, 3)))   # 튜플도 해시 가능\n",
    "print(hash([1, 2, 3]))   # 리스트는 에러! => 해시 불가 (mutable)"
   ]
  },
  {
   "cell_type": "markdown",
   "id": "0fd1da8c",
   "metadata": {},
   "source": [
    "## collections.Counter\n",
    "- 리스트 요소 개수 세기에 최적화된 클래스 (해시 기반)\n",
    "- 요소를 key로 해서 등장 횟수를 저장 (hash(key) 사용)"
   ]
  },
  {
   "cell_type": "code",
   "execution_count": 74,
   "id": "c0c4d0c6",
   "metadata": {},
   "outputs": [
    {
     "name": "stdout",
     "output_type": "stream",
     "text": [
      "Counter({'S': 2, 'O': 2, 'B': 1, 'J': 1})\n"
     ]
    }
   ],
   "source": [
    "from collections import Counter\n",
    "\n",
    "names = ['S', 'B', 'J', 'O', 'S', 'O']\n",
    "count = Counter(names)\n",
    "print(count)  # Counter({'S': 2, 'O': 2, 'B': 1, 'J': 1})"
   ]
  },
  {
   "cell_type": "markdown",
   "id": "8942c24b",
   "metadata": {},
   "source": [
    "## collections.defaultdict\n",
    "\n",
    "- 없는 키 접근 시 default value, hash(key)로 관리\n",
    "- 자동 초기화"
   ]
  },
  {
   "cell_type": "code",
   "execution_count": 135,
   "id": "39fb5901",
   "metadata": {},
   "outputs": [
    {
     "name": "stdout",
     "output_type": "stream",
     "text": [
      "defaultdict(<class 'int'>, {'h': 1, 'e': 1, 'l': 2, 'o': 1})\n"
     ]
    }
   ],
   "source": [
    "from collections import defaultdict\n",
    "\n",
    "d = defaultdict(int)\n",
    "for ch in 'hello':\n",
    "    d[ch] += 1\n",
    "\n",
    "print(d)  # {'h':1, 'e':1, 'l':2, 'o':1}"
   ]
  },
  {
   "cell_type": "markdown",
   "id": "9d9b3b1d",
   "metadata": {},
   "source": [
    "# 문제\n",
    "\n",
    "1. 완주하지 못한 선수 [[링크](https://school.programmers.co.kr/learn/courses/30/lessons/42576?language=python3)]\n",
    "\n",
    "2. 폰켓몬 [[링크](https://school.programmers.co.kr/learn/courses/30/lessons/1845?language=python3)]\n",
    "\n",
    "3. 전화번호 목록 [[링크](https://school.programmers.co.kr/learn/courses/30/lessons/42577?language=python3)]\n",
    "\n",
    "4. 의상 [[링크](https://school.programmers.co.kr/learn/courses/30/lessons/42578)]\n",
    "\n",
    "5. 베스트앨범 [[링크](https://school.programmers.co.kr/learn/courses/30/lessons/42579)]"
   ]
  },
  {
   "cell_type": "markdown",
   "id": "a7c741e9",
   "metadata": {},
   "source": [
    "## 1. 완주하지 못한 선수 [[링크](https://school.programmers.co.kr/learn/courses/30/lessons/42576?language=python3)]\n"
   ]
  },
  {
   "cell_type": "markdown",
   "id": "2de4a634",
   "metadata": {},
   "source": [
    "- 수많은 마라톤 선수들이 마라톤에 참여하였습니다. 단 한 명의 선수를 제외하고는 모든 선수가 마라톤을 완주하였습니다.\n",
    "\n",
    "- participant: 마라톤에 참여한 선수들의 이름이 담긴 배열 \n",
    "- completion: 완주한 선수들의 이름이 담긴 배열\n",
    "- return: 완주하지 못한 선수의 이름\n",
    "\n",
    "\n",
    "- 제한사항:\n",
    "    - 마라톤 경기에 참여한 선수의 수는 1명 이상 100,000명 이하입니다.\n",
    "    - completion의 길이는 participant의 길이보다 1 작습니다.\n",
    "    - 참가자의 이름은 1개 이상 20개 이하의 알파벳 소문자로 이루어져 있습니다.\n",
    "    - 참가자 중에는 동명이인이 있을 수 있습니다."
   ]
  },
  {
   "cell_type": "code",
   "execution_count": 186,
   "id": "de38fc73",
   "metadata": {},
   "outputs": [],
   "source": [
    "def test_case(solution):\n",
    "    # 테스트 케이스\n",
    "    case1_pred=solution([\"leo\", \"kiki\", \"eden\"], [\"eden\", \"kiki\"])\n",
    "    case1_true=\"leo\"\n",
    "\n",
    "    case2_pred=solution([\"marina\", \"josipa\", \"nikola\", \"vinko\", \"filipa\"], [\"josipa\", \"filipa\", \"marina\", \"nikola\"])\n",
    "    case2_true=\"vinko\"\n",
    "\n",
    "    case3_pred=solution([\"mislav\", \"stanko\", \"mislav\", \"ana\"], [\"stanko\", \"ana\", \"mislav\"])\n",
    "    case3_true=\"mislav\"\n",
    "\n",
    "    # 채점 결과\n",
    "    isanswer = [case1_pred==case1_true, case2_pred==case2_true, case3_pred==case3_true]\n",
    "    print(len(isanswer), \"개 중에\", isanswer.count(True),\"개 성공\")"
   ]
  },
  {
   "cell_type": "markdown",
   "id": "d166ea4c",
   "metadata": {},
   "source": [
    "#### 방법 1: 정렬해서 비교"
   ]
  },
  {
   "cell_type": "code",
   "execution_count": 187,
   "id": "90d23e13",
   "metadata": {},
   "outputs": [
    {
     "name": "stdout",
     "output_type": "stream",
     "text": [
      "3 개 중에 3 개 성공\n"
     ]
    }
   ],
   "source": [
    "def solution1(participant, completion):\n",
    "    participant.sort()\n",
    "    completion.sort()\n",
    "    for i in range(len(completion)):\n",
    "        if participant[i] != completion[i]:\n",
    "            return participant[i]\n",
    "    return participant[-1]\n",
    "\n",
    "# 테스트 케이스\n",
    "test_case(solution1)"
   ]
  },
  {
   "cell_type": "markdown",
   "id": "2a35fe17",
   "metadata": {},
   "source": [
    "```\n",
    "정확성  테스트\n",
    "테스트 1 〉\t통과 (0.01ms, 9.25MB)\n",
    "테스트 2 〉\t통과 (0.01ms, 9.25MB)\n",
    "테스트 3 〉\t통과 (0.21ms, 9.3MB)\n",
    "테스트 4 〉\t통과 (0.53ms, 9.4MB)\n",
    "테스트 5 〉\t통과 (0.55ms, 9.36MB)\n",
    "테스트 6 〉\t통과 (0.00ms, 9.26MB)\n",
    "테스트 7 〉\t통과 (0.00ms, 9.26MB)\n",
    "효율성  테스트\n",
    "테스트 1 〉\t통과 (33.16ms, 17MB)\n",
    "테스트 2 〉\t통과 (55.98ms, 21.2MB)\n",
    "테스트 3 〉\t통과 (72.97ms, 23.9MB)\n",
    "테스트 4 〉\t통과 (73.73ms, 25.3MB)\n",
    "테스트 5 〉\t통과 (79.98ms, 25.3MB)\n",
    "채점 결과\n",
    "정확성: 58.3\n",
    "효율성: 41.7\n",
    "합계: 100.0 / 100.0\n",
    "```"
   ]
  },
  {
   "cell_type": "markdown",
   "id": "ac6d0283",
   "metadata": {},
   "source": [
    "#### 방법 2: Counter 차집합"
   ]
  },
  {
   "cell_type": "code",
   "execution_count": 188,
   "id": "26d470ee",
   "metadata": {},
   "outputs": [
    {
     "name": "stdout",
     "output_type": "stream",
     "text": [
      "3 개 중에 3 개 성공\n"
     ]
    }
   ],
   "source": [
    "from collections import Counter\n",
    "\n",
    "def solution2(participant, completion):\n",
    "    return list((Counter(participant) - Counter(completion)).keys())[0]\n",
    "\n",
    "# 테스트 케이스\n",
    "test_case(solution2)"
   ]
  },
  {
   "cell_type": "markdown",
   "id": "e3e7f047",
   "metadata": {},
   "source": [
    "```\n",
    "정확성  테스트\n",
    "테스트 1 〉\t통과 (0.04ms, 9.26MB)\n",
    "테스트 2 〉\t통과 (0.05ms, 9.25MB)\n",
    "테스트 3 〉\t통과 (0.34ms, 9.3MB)\n",
    "테스트 4 〉\t통과 (0.74ms, 9.46MB)\n",
    "테스트 5 〉\t통과 (0.75ms, 9.41MB)\n",
    "테스트 6 〉\t통과 (0.04ms, 9.24MB)\n",
    "테스트 7 〉\t통과 (0.05ms, 9.22MB)\n",
    "효율성  테스트\n",
    "테스트 1 〉\t통과 (29.93ms, 23.5MB)\n",
    "테스트 2 〉\t통과 (44.26ms, 26.8MB)\n",
    "테스트 3 〉\t통과 (68.62ms, 29.3MB)\n",
    "테스트 4 〉\t통과 (94.17ms, 38.1MB)\n",
    "테스트 5 〉\t통과 (63.97ms, 38.1MB)\n",
    "채점 결과\n",
    "정확성: 58.3\n",
    "효율성: 41.7\n",
    "합계: 100.0 / 100.0\n",
    "```"
   ]
  },
  {
   "cell_type": "markdown",
   "id": "65230586",
   "metadata": {},
   "source": [
    "#### 방법 3: 해시값 누적 방식"
   ]
  },
  {
   "cell_type": "code",
   "execution_count": 189,
   "id": "27c3847f",
   "metadata": {},
   "outputs": [
    {
     "name": "stdout",
     "output_type": "stream",
     "text": [
      "3 개 중에 3 개 성공\n"
     ]
    }
   ],
   "source": [
    "def solution3(participant, completion):\n",
    "    answer = ''\n",
    "    temp = 0\n",
    "    dic = {}\n",
    "    for part in participant:\n",
    "        dic[hash(part)] = part\n",
    "        temp += int(hash(part))\n",
    "    for com in completion:\n",
    "        temp -= hash(com)\n",
    "    answer = dic[temp]\n",
    "\n",
    "    return answer\n",
    "\n",
    "# 테스트 케이스\n",
    "test_case(solution3)"
   ]
  },
  {
   "cell_type": "markdown",
   "id": "e7c734d9",
   "metadata": {},
   "source": [
    "```\n",
    "정확성  테스트\n",
    "테스트 1 〉\t통과 (0.01ms, 9.26MB)\n",
    "테스트 2 〉\t통과 (0.02ms, 9.26MB)\n",
    "테스트 3 〉\t통과 (0.26ms, 9.27MB)\n",
    "테스트 4 〉\t통과 (0.53ms, 9.43MB)\n",
    "테스트 5 〉\t통과 (0.48ms, 9.47MB)\n",
    "테스트 6 〉\t통과 (0.00ms, 9.33MB)\n",
    "테스트 7 〉\t통과 (0.01ms, 9.32MB)\n",
    "효율성  테스트\n",
    "테스트 1 〉\t통과 (24.23ms, 22.9MB)\n",
    "테스트 2 〉\t통과 (36.56ms, 27.4MB)\n",
    "테스트 3 〉\t통과 (42.30ms, 30.5MB)\n",
    "테스트 4 〉\t통과 (52.03ms, 36.7MB)\n",
    "테스트 5 〉\t통과 (49.21ms, 37MB)\n",
    "채점 결과\n",
    "정확성: 58.3\n",
    "효율성: 41.7\n",
    "합계: 100.0 / 100.0\n",
    "```"
   ]
  },
  {
   "cell_type": "markdown",
   "id": "5f4ea314",
   "metadata": {},
   "source": [
    "#### 방법 4: 해시값 누적 + 다시 탐색"
   ]
  },
  {
   "cell_type": "code",
   "execution_count": 171,
   "id": "16603df1",
   "metadata": {},
   "outputs": [
    {
     "name": "stdout",
     "output_type": "stream",
     "text": [
      "3 개 중에 3 개 성공\n"
     ]
    }
   ],
   "source": [
    "def solution4(participant, completion):\n",
    "    hash_loser=sum([hash(a) for a in participant])-sum([hash(a) for a in completion])\n",
    "    for a in participant:\n",
    "        if hash(a)==hash_loser:\n",
    "            return a\n",
    "        \n",
    "test_case(solution4)"
   ]
  },
  {
   "cell_type": "markdown",
   "id": "2d55d651",
   "metadata": {},
   "source": [
    "```\n",
    "정확성  테스트\n",
    "테스트 1 〉\t통과 (0.01ms, 9.09MB)\n",
    "테스트 2 〉\t통과 (0.01ms, 9.03MB)\n",
    "테스트 3 〉\t통과 (0.17ms, 9.16MB)\n",
    "테스트 4 〉\t통과 (0.50ms, 9.28MB)\n",
    "테스트 5 〉\t통과 (0.48ms, 9.35MB)\n",
    "테스트 6 〉\t통과 (0.00ms, 9.18MB)\n",
    "테스트 7 〉\t통과 (0.00ms, 9.23MB)\n",
    "효율성  테스트\n",
    "테스트 1 〉\t통과 (15.00ms, 18.7MB)\n",
    "테스트 2 〉\t통과 (23.92ms, 23.4MB)\n",
    "테스트 3 〉\t통과 (34.93ms, 27.2MB)\n",
    "테스트 4 〉\t통과 (30.77ms, 28.7MB)\n",
    "테스트 5 〉\t통과 (28.11ms, 28.6MB)\n",
    "채점 결과\n",
    "정확성: 58.3\n",
    "효율성: 41.7\n",
    "합계: 100.0 / 100.0\n",
    "```"
   ]
  },
  {
   "cell_type": "markdown",
   "id": "793f7362",
   "metadata": {},
   "source": [
    "#### 풀이 방법 4가지 비교"
   ]
  },
  {
   "cell_type": "markdown",
   "id": "3935c431",
   "metadata": {},
   "source": [
    "- 비교 요약\n",
    "\n",
    "| 항목            | `solution1`(정렬 비교)               | `solution2`(Counter 이용)                           | `solution3`(해시값 합 + dict)                              | `solution4`(해시값 합만)     |\n",
    "| ------------- | --------------------------- | --------------------------- | --------------------------- | --------------------------- |\n",
    "| 💡 핵심 아이디어    | participant, completion 정렬 후 순서대로 비교 | `Counter(participant) - Counter(completion)` 후 key 추출 | 모든 이름의 `hash()` 값을 더한 후 완주자의 `hash()`를 빼고 남은 값을 `dict`로 매핑 | 해시값만 더하고 남은 해시값과 이름 비교      |\n",
    "| 🧠 해시 사용 여부   | ❌ 사용 안 함                             | ✅ `Counter` = 내부적으로 `dict` (해시 사용)                    | ✅ 직접 `hash()` 사용 + `dict` 저장                               | ✅ `hash()`만 사용 (dict 없음)    |\n",
    "| ⏱ 시간 복잡도      | O(n log n)                           | O(n)                                                  | O(n)                                                       | O(n)                        |\n",
    "| 💾 공간 복잡도     | O(1)                                 | O(n)                                                  | O(n)                                                       | O(1)                        |\n",
    "| 👥 동명이인 처리    | ✅ 가능                                 | ✅ 완벽히 처리                                              | ❌ `dict[hash(name)]` 덮어씌움                                  | ❌ `hash(name)` 비교만으로는 구분 불가 |\n",
    "| 🔐 안정성 (충돌 등) | ✅ 매우 높음                              | ✅ 높음 (안정적, 검증됨)                                       | ❌ 낮음 (해시 충돌/덮어쓰기 위험)                                       | ❌ 낮음 (충돌 시 잘못된 이름 선택)       |\n",
    "| 🧠 코드 직관성     | ✅ 명확함                                | ✅ 한 줄 풀이 가능, 직관적                                      | ❌ 해시값과 dict로 인한 추상화                                        | ✅ 짧지만 논리 불명확함               |\n",
    "| ⭐ 추천도 (실전 기준) | ⭐⭐⭐⭐                                 | ⭐⭐⭐⭐⭐                                                 | ⭐⭐                                                         | ⭐⭐                          |\n"
   ]
  },
  {
   "cell_type": "markdown",
   "id": "a5f68670",
   "metadata": {},
   "source": [
    "- Python의 hash()는 실행마다 값이 달라지고, 해시 충돌 가능성도 존재하므로 실무/대회에선 solution3, solution4는 피하는 게 안전함\n",
    "\n",
    "| 항목          | `solution3`                       | `solution4`                                     |\n",
    "| ----------- | --------------------------------- | ----------------------------------------------- |\n",
    "| 🔧 구조       | `hash(name)` → dict에 저장           | `hash(name)`만 저장                                |\n",
    "| 📦 이름 저장    | `dic[hash(name)] = name` 으로 이름 저장 | 이름은 저장 안 함                                      |\n",
    "| 🔄 결과 찾기 방식 | `dic[temp]` 로 바로 이름 반환            | participant 전체 순회하며 `hash(name)==hash_loser` 찾음 |\n",
    "| ⚠️ 해시 충돌 시  | 위험 (충돌 시 덮어씀)                     | 위험 (동일 hash가 여러 이름일 경우)                         |\n",
    "| 🧠 해시 활용 정도 | 해시값 → 키로 사용 + 더하기                 | 해시값만 더하고 단순 비교                                  |\n",
    "| 💡 장점       | 이름 조회 빠름 (dict lookup)            | 코드 간단함, dict 안 씀                                |\n",
    "| 🔻 단점       | 해시 충돌 시 이름 덮어씌움                   | 해시 충돌 시 `hash(name)==hash_loser` 여러 개 가능        |"
   ]
  }
 ],
 "metadata": {
  "kernelspec": {
   "display_name": "llm",
   "language": "python",
   "name": "python3"
  },
  "language_info": {
   "codemirror_mode": {
    "name": "ipython",
    "version": 3
   },
   "file_extension": ".py",
   "mimetype": "text/x-python",
   "name": "python",
   "nbconvert_exporter": "python",
   "pygments_lexer": "ipython3",
   "version": "3.13.5"
  }
 },
 "nbformat": 4,
 "nbformat_minor": 5
}
